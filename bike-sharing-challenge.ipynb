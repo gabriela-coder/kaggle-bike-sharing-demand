{
 "cells": [
  {
   "cell_type": "code",
   "execution_count": 1,
   "id": "5476734a",
   "metadata": {
    "_cell_guid": "b1076dfc-b9ad-4769-8c92-a6c4dae69d19",
    "_uuid": "8f2839f25d086af736a60e9eeb907d3b93b6e0e5",
    "execution": {
     "iopub.execute_input": "2022-12-21T05:31:19.032492Z",
     "iopub.status.busy": "2022-12-21T05:31:19.031736Z",
     "iopub.status.idle": "2022-12-21T05:31:20.325108Z",
     "shell.execute_reply": "2022-12-21T05:31:20.323970Z"
    },
    "papermill": {
     "duration": 1.304546,
     "end_time": "2022-12-21T05:31:20.327763",
     "exception": false,
     "start_time": "2022-12-21T05:31:19.023217",
     "status": "completed"
    },
    "tags": []
   },
   "outputs": [
    {
     "name": "stdout",
     "output_type": "stream",
     "text": [
      "Setup Complete\n",
      "/kaggle/input/bike-sharing-demand/sampleSubmission.csv\n",
      "/kaggle/input/bike-sharing-demand/train.csv\n",
      "/kaggle/input/bike-sharing-demand/test.csv\n"
     ]
    }
   ],
   "source": [
    "# This Python 3 environment comes with many helpful analytics libraries installed\n",
    "# It is defined by the kaggle/python Docker image: https://github.com/kaggle/docker-python\n",
    "# For example, here's several helpful packages to load\n",
    "\n",
    "import numpy as np # linear algebra\n",
    "import pandas as pd # data processing, CSV file I/O (e.g. pd.read_csv)\n",
    "pd.plotting.register_matplotlib_converters()\n",
    "import matplotlib.pyplot as plt\n",
    "%matplotlib inline\n",
    "import seaborn as sns\n",
    "print(\"Setup Complete\")\n",
    "# Input data files are available in the read-only \"../input/\" directory\n",
    "# For example, running this (by clicking run or pressing Shift+Enter) will list all files under the input directory\n",
    "\n",
    "import os\n",
    "for dirname, _, filenames in os.walk('/kaggle/input'):\n",
    "    for filename in filenames:\n",
    "        print(os.path.join(dirname, filename))\n",
    "\n",
    "# You can write up to 20GB to the current directory (/kaggle/working/) that gets preserved as output when you create a version using \"Save & Run All\" \n",
    "# You can also write temporary files to /kaggle/temp/, but they won't be saved outside of the current session"
   ]
  },
  {
   "cell_type": "code",
   "execution_count": 2,
   "id": "39cbad66",
   "metadata": {
    "execution": {
     "iopub.execute_input": "2022-12-21T05:31:20.341473Z",
     "iopub.status.busy": "2022-12-21T05:31:20.341008Z",
     "iopub.status.idle": "2022-12-21T05:31:20.415512Z",
     "shell.execute_reply": "2022-12-21T05:31:20.414140Z"
    },
    "papermill": {
     "duration": 0.083938,
     "end_time": "2022-12-21T05:31:20.418143",
     "exception": false,
     "start_time": "2022-12-21T05:31:20.334205",
     "status": "completed"
    },
    "tags": []
   },
   "outputs": [
    {
     "data": {
      "text/html": [
       "<div>\n",
       "<style scoped>\n",
       "    .dataframe tbody tr th:only-of-type {\n",
       "        vertical-align: middle;\n",
       "    }\n",
       "\n",
       "    .dataframe tbody tr th {\n",
       "        vertical-align: top;\n",
       "    }\n",
       "\n",
       "    .dataframe thead th {\n",
       "        text-align: right;\n",
       "    }\n",
       "</style>\n",
       "<table border=\"1\" class=\"dataframe\">\n",
       "  <thead>\n",
       "    <tr style=\"text-align: right;\">\n",
       "      <th></th>\n",
       "      <th>datetime</th>\n",
       "      <th>season</th>\n",
       "      <th>holiday</th>\n",
       "      <th>workingday</th>\n",
       "      <th>weather</th>\n",
       "      <th>temp</th>\n",
       "      <th>atemp</th>\n",
       "      <th>humidity</th>\n",
       "      <th>windspeed</th>\n",
       "      <th>casual</th>\n",
       "      <th>registered</th>\n",
       "      <th>count</th>\n",
       "    </tr>\n",
       "  </thead>\n",
       "  <tbody>\n",
       "    <tr>\n",
       "      <th>0</th>\n",
       "      <td>2011-01-01 00:00:00</td>\n",
       "      <td>1</td>\n",
       "      <td>0</td>\n",
       "      <td>0</td>\n",
       "      <td>1</td>\n",
       "      <td>9.84</td>\n",
       "      <td>14.395</td>\n",
       "      <td>81</td>\n",
       "      <td>0.0</td>\n",
       "      <td>3</td>\n",
       "      <td>13</td>\n",
       "      <td>16</td>\n",
       "    </tr>\n",
       "    <tr>\n",
       "      <th>1</th>\n",
       "      <td>2011-01-01 01:00:00</td>\n",
       "      <td>1</td>\n",
       "      <td>0</td>\n",
       "      <td>0</td>\n",
       "      <td>1</td>\n",
       "      <td>9.02</td>\n",
       "      <td>13.635</td>\n",
       "      <td>80</td>\n",
       "      <td>0.0</td>\n",
       "      <td>8</td>\n",
       "      <td>32</td>\n",
       "      <td>40</td>\n",
       "    </tr>\n",
       "    <tr>\n",
       "      <th>2</th>\n",
       "      <td>2011-01-01 02:00:00</td>\n",
       "      <td>1</td>\n",
       "      <td>0</td>\n",
       "      <td>0</td>\n",
       "      <td>1</td>\n",
       "      <td>9.02</td>\n",
       "      <td>13.635</td>\n",
       "      <td>80</td>\n",
       "      <td>0.0</td>\n",
       "      <td>5</td>\n",
       "      <td>27</td>\n",
       "      <td>32</td>\n",
       "    </tr>\n",
       "    <tr>\n",
       "      <th>3</th>\n",
       "      <td>2011-01-01 03:00:00</td>\n",
       "      <td>1</td>\n",
       "      <td>0</td>\n",
       "      <td>0</td>\n",
       "      <td>1</td>\n",
       "      <td>9.84</td>\n",
       "      <td>14.395</td>\n",
       "      <td>75</td>\n",
       "      <td>0.0</td>\n",
       "      <td>3</td>\n",
       "      <td>10</td>\n",
       "      <td>13</td>\n",
       "    </tr>\n",
       "    <tr>\n",
       "      <th>4</th>\n",
       "      <td>2011-01-01 04:00:00</td>\n",
       "      <td>1</td>\n",
       "      <td>0</td>\n",
       "      <td>0</td>\n",
       "      <td>1</td>\n",
       "      <td>9.84</td>\n",
       "      <td>14.395</td>\n",
       "      <td>75</td>\n",
       "      <td>0.0</td>\n",
       "      <td>0</td>\n",
       "      <td>1</td>\n",
       "      <td>1</td>\n",
       "    </tr>\n",
       "  </tbody>\n",
       "</table>\n",
       "</div>"
      ],
      "text/plain": [
       "              datetime  season  holiday  workingday  weather  temp   atemp  \\\n",
       "0  2011-01-01 00:00:00       1        0           0        1  9.84  14.395   \n",
       "1  2011-01-01 01:00:00       1        0           0        1  9.02  13.635   \n",
       "2  2011-01-01 02:00:00       1        0           0        1  9.02  13.635   \n",
       "3  2011-01-01 03:00:00       1        0           0        1  9.84  14.395   \n",
       "4  2011-01-01 04:00:00       1        0           0        1  9.84  14.395   \n",
       "\n",
       "   humidity  windspeed  casual  registered  count  \n",
       "0        81        0.0       3          13     16  \n",
       "1        80        0.0       8          32     40  \n",
       "2        80        0.0       5          27     32  \n",
       "3        75        0.0       3          10     13  \n",
       "4        75        0.0       0           1      1  "
      ]
     },
     "execution_count": 2,
     "metadata": {},
     "output_type": "execute_result"
    }
   ],
   "source": [
    "bike_data = pd.read_csv('/kaggle/input/bike-sharing-demand/train.csv')\n",
    "bike_data.head()"
   ]
  },
  {
   "cell_type": "code",
   "execution_count": 3,
   "id": "ba6481e6",
   "metadata": {
    "execution": {
     "iopub.execute_input": "2022-12-21T05:31:20.430906Z",
     "iopub.status.busy": "2022-12-21T05:31:20.430449Z",
     "iopub.status.idle": "2022-12-21T05:31:23.321732Z",
     "shell.execute_reply": "2022-12-21T05:31:23.320247Z"
    },
    "papermill": {
     "duration": 2.9007,
     "end_time": "2022-12-21T05:31:23.324468",
     "exception": false,
     "start_time": "2022-12-21T05:31:20.423768",
     "status": "completed"
    },
    "tags": []
   },
   "outputs": [],
   "source": [
    "def pega_hora(row):\n",
    "    row.datetime = int(row.datetime[11]+row.datetime[12])\n",
    "    return row\n",
    "bike_data.apply(pega_hora, axis='columns')\n",
    "# não alterou a table original\n",
    "new_bike_data = bike_data.apply(pega_hora, axis='columns')\n"
   ]
  },
  {
   "cell_type": "code",
   "execution_count": 4,
   "id": "6366e2f9",
   "metadata": {
    "execution": {
     "iopub.execute_input": "2022-12-21T05:31:23.337487Z",
     "iopub.status.busy": "2022-12-21T05:31:23.337057Z",
     "iopub.status.idle": "2022-12-21T05:31:23.351433Z",
     "shell.execute_reply": "2022-12-21T05:31:23.350408Z"
    },
    "papermill": {
     "duration": 0.023986,
     "end_time": "2022-12-21T05:31:23.354052",
     "exception": false,
     "start_time": "2022-12-21T05:31:23.330066",
     "status": "completed"
    },
    "tags": []
   },
   "outputs": [],
   "source": [
    "bike_sorted = bike_data.sort_values(by='datetime',ascending=True)"
   ]
  },
  {
   "cell_type": "code",
   "execution_count": 5,
   "id": "4990fa9f",
   "metadata": {
    "execution": {
     "iopub.execute_input": "2022-12-21T05:31:23.367460Z",
     "iopub.status.busy": "2022-12-21T05:31:23.366176Z",
     "iopub.status.idle": "2022-12-21T05:31:23.378247Z",
     "shell.execute_reply": "2022-12-21T05:31:23.377161Z"
    },
    "papermill": {
     "duration": 0.021417,
     "end_time": "2022-12-21T05:31:23.380871",
     "exception": false,
     "start_time": "2022-12-21T05:31:23.359454",
     "status": "completed"
    },
    "tags": []
   },
   "outputs": [
    {
     "data": {
      "text/plain": [
       "datetime      0\n",
       "season        0\n",
       "holiday       0\n",
       "workingday    0\n",
       "weather       0\n",
       "temp          0\n",
       "atemp         0\n",
       "humidity      0\n",
       "windspeed     0\n",
       "casual        0\n",
       "registered    0\n",
       "count         0\n",
       "dtype: int64"
      ]
     },
     "execution_count": 5,
     "metadata": {},
     "output_type": "execute_result"
    }
   ],
   "source": [
    "new_bike_data.isnull().sum()"
   ]
  },
  {
   "cell_type": "code",
   "execution_count": 6,
   "id": "3869d3b2",
   "metadata": {
    "execution": {
     "iopub.execute_input": "2022-12-21T05:31:23.394630Z",
     "iopub.status.busy": "2022-12-21T05:31:23.393667Z",
     "iopub.status.idle": "2022-12-21T05:31:23.445545Z",
     "shell.execute_reply": "2022-12-21T05:31:23.444341Z"
    },
    "papermill": {
     "duration": 0.061559,
     "end_time": "2022-12-21T05:31:23.448207",
     "exception": false,
     "start_time": "2022-12-21T05:31:23.386648",
     "status": "completed"
    },
    "tags": []
   },
   "outputs": [
    {
     "data": {
      "text/plain": [
       "datetime      0\n",
       "season        0\n",
       "holiday       0\n",
       "workingday    0\n",
       "weather       0\n",
       "temp          0\n",
       "atemp         0\n",
       "humidity      0\n",
       "windspeed     0\n",
       "dtype: int64"
      ]
     },
     "execution_count": 6,
     "metadata": {},
     "output_type": "execute_result"
    }
   ],
   "source": [
    "test_bike_data = pd.read_csv('/kaggle/input/bike-sharing-demand/test.csv')\n",
    "test_bike_data.isnull().sum()"
   ]
  },
  {
   "cell_type": "code",
   "execution_count": 7,
   "id": "18b722c7",
   "metadata": {
    "execution": {
     "iopub.execute_input": "2022-12-21T05:31:23.462577Z",
     "iopub.status.busy": "2022-12-21T05:31:23.461750Z",
     "iopub.status.idle": "2022-12-21T05:31:23.477474Z",
     "shell.execute_reply": "2022-12-21T05:31:23.476574Z"
    },
    "papermill": {
     "duration": 0.02561,
     "end_time": "2022-12-21T05:31:23.479752",
     "exception": false,
     "start_time": "2022-12-21T05:31:23.454142",
     "status": "completed"
    },
    "tags": []
   },
   "outputs": [
    {
     "data": {
      "text/html": [
       "<div>\n",
       "<style scoped>\n",
       "    .dataframe tbody tr th:only-of-type {\n",
       "        vertical-align: middle;\n",
       "    }\n",
       "\n",
       "    .dataframe tbody tr th {\n",
       "        vertical-align: top;\n",
       "    }\n",
       "\n",
       "    .dataframe thead th {\n",
       "        text-align: right;\n",
       "    }\n",
       "</style>\n",
       "<table border=\"1\" class=\"dataframe\">\n",
       "  <thead>\n",
       "    <tr style=\"text-align: right;\">\n",
       "      <th></th>\n",
       "      <th>datetime</th>\n",
       "      <th>season</th>\n",
       "      <th>holiday</th>\n",
       "      <th>workingday</th>\n",
       "      <th>weather</th>\n",
       "      <th>temp</th>\n",
       "      <th>atemp</th>\n",
       "      <th>humidity</th>\n",
       "      <th>windspeed</th>\n",
       "    </tr>\n",
       "  </thead>\n",
       "  <tbody>\n",
       "    <tr>\n",
       "      <th>0</th>\n",
       "      <td>2011-01-20 00:00:00</td>\n",
       "      <td>1</td>\n",
       "      <td>0</td>\n",
       "      <td>1</td>\n",
       "      <td>1</td>\n",
       "      <td>10.66</td>\n",
       "      <td>11.365</td>\n",
       "      <td>56</td>\n",
       "      <td>26.0027</td>\n",
       "    </tr>\n",
       "    <tr>\n",
       "      <th>1</th>\n",
       "      <td>2011-01-20 01:00:00</td>\n",
       "      <td>1</td>\n",
       "      <td>0</td>\n",
       "      <td>1</td>\n",
       "      <td>1</td>\n",
       "      <td>10.66</td>\n",
       "      <td>13.635</td>\n",
       "      <td>56</td>\n",
       "      <td>0.0000</td>\n",
       "    </tr>\n",
       "    <tr>\n",
       "      <th>2</th>\n",
       "      <td>2011-01-20 02:00:00</td>\n",
       "      <td>1</td>\n",
       "      <td>0</td>\n",
       "      <td>1</td>\n",
       "      <td>1</td>\n",
       "      <td>10.66</td>\n",
       "      <td>13.635</td>\n",
       "      <td>56</td>\n",
       "      <td>0.0000</td>\n",
       "    </tr>\n",
       "    <tr>\n",
       "      <th>3</th>\n",
       "      <td>2011-01-20 03:00:00</td>\n",
       "      <td>1</td>\n",
       "      <td>0</td>\n",
       "      <td>1</td>\n",
       "      <td>1</td>\n",
       "      <td>10.66</td>\n",
       "      <td>12.880</td>\n",
       "      <td>56</td>\n",
       "      <td>11.0014</td>\n",
       "    </tr>\n",
       "    <tr>\n",
       "      <th>4</th>\n",
       "      <td>2011-01-20 04:00:00</td>\n",
       "      <td>1</td>\n",
       "      <td>0</td>\n",
       "      <td>1</td>\n",
       "      <td>1</td>\n",
       "      <td>10.66</td>\n",
       "      <td>12.880</td>\n",
       "      <td>56</td>\n",
       "      <td>11.0014</td>\n",
       "    </tr>\n",
       "  </tbody>\n",
       "</table>\n",
       "</div>"
      ],
      "text/plain": [
       "              datetime  season  holiday  workingday  weather   temp   atemp  \\\n",
       "0  2011-01-20 00:00:00       1        0           1        1  10.66  11.365   \n",
       "1  2011-01-20 01:00:00       1        0           1        1  10.66  13.635   \n",
       "2  2011-01-20 02:00:00       1        0           1        1  10.66  13.635   \n",
       "3  2011-01-20 03:00:00       1        0           1        1  10.66  12.880   \n",
       "4  2011-01-20 04:00:00       1        0           1        1  10.66  12.880   \n",
       "\n",
       "   humidity  windspeed  \n",
       "0        56    26.0027  \n",
       "1        56     0.0000  \n",
       "2        56     0.0000  \n",
       "3        56    11.0014  \n",
       "4        56    11.0014  "
      ]
     },
     "execution_count": 7,
     "metadata": {},
     "output_type": "execute_result"
    }
   ],
   "source": [
    "test_bike_data.head()"
   ]
  },
  {
   "cell_type": "code",
   "execution_count": 8,
   "id": "398892a9",
   "metadata": {
    "execution": {
     "iopub.execute_input": "2022-12-21T05:31:23.494326Z",
     "iopub.status.busy": "2022-12-21T05:31:23.493361Z",
     "iopub.status.idle": "2022-12-21T05:31:23.508008Z",
     "shell.execute_reply": "2022-12-21T05:31:23.506797Z"
    },
    "papermill": {
     "duration": 0.024467,
     "end_time": "2022-12-21T05:31:23.510427",
     "exception": false,
     "start_time": "2022-12-21T05:31:23.485960",
     "status": "completed"
    },
    "tags": []
   },
   "outputs": [
    {
     "data": {
      "text/plain": [
       "0    16\n",
       "1    40\n",
       "2    32\n",
       "3    13\n",
       "4     1\n",
       "Name: count, dtype: int64"
      ]
     },
     "execution_count": 8,
     "metadata": {},
     "output_type": "execute_result"
    }
   ],
   "source": [
    "#começo do randomflorest\n",
    "y = new_bike_data['count']\n",
    "new_bike_data_features = ['datetime','season','holiday','workingday','weather','temp','atemp','humidity','windspeed','casual','registered']\n",
    "X = new_bike_data[new_bike_data_features]\n",
    "y.head()"
   ]
  },
  {
   "cell_type": "code",
   "execution_count": 9,
   "id": "e8127121",
   "metadata": {
    "execution": {
     "iopub.execute_input": "2022-12-21T05:31:23.526873Z",
     "iopub.status.busy": "2022-12-21T05:31:23.526098Z",
     "iopub.status.idle": "2022-12-21T05:31:23.933542Z",
     "shell.execute_reply": "2022-12-21T05:31:23.932230Z"
    },
    "papermill": {
     "duration": 0.419283,
     "end_time": "2022-12-21T05:31:23.936161",
     "exception": false,
     "start_time": "2022-12-21T05:31:23.516878",
     "status": "completed"
    },
    "tags": []
   },
   "outputs": [
    {
     "data": {
      "text/plain": [
       "DecisionTreeRegressor()"
      ]
     },
     "execution_count": 9,
     "metadata": {},
     "output_type": "execute_result"
    }
   ],
   "source": [
    "from sklearn.tree import DecisionTreeRegressor\n",
    "\n",
    "bike_model = DecisionTreeRegressor()\n",
    "bike_model.fit(X, y)"
   ]
  },
  {
   "cell_type": "code",
   "execution_count": 10,
   "id": "01026c77",
   "metadata": {
    "execution": {
     "iopub.execute_input": "2022-12-21T05:31:23.950035Z",
     "iopub.status.busy": "2022-12-21T05:31:23.949601Z",
     "iopub.status.idle": "2022-12-21T05:31:23.963257Z",
     "shell.execute_reply": "2022-12-21T05:31:23.961949Z"
    },
    "papermill": {
     "duration": 0.023796,
     "end_time": "2022-12-21T05:31:23.965983",
     "exception": false,
     "start_time": "2022-12-21T05:31:23.942187",
     "status": "completed"
    },
    "tags": []
   },
   "outputs": [
    {
     "data": {
      "text/plain": [
       "0.0"
      ]
     },
     "execution_count": 10,
     "metadata": {},
     "output_type": "execute_result"
    }
   ],
   "source": [
    "#testando diferentes modelos\n",
    "from sklearn.metrics import mean_absolute_error\n",
    "\n",
    "predicted_bike = bike_model.predict(X)\n",
    "mean_absolute_error(y, predicted_bike)"
   ]
  },
  {
   "cell_type": "code",
   "execution_count": 11,
   "id": "c5f38851",
   "metadata": {
    "execution": {
     "iopub.execute_input": "2022-12-21T05:31:23.980229Z",
     "iopub.status.busy": "2022-12-21T05:31:23.979803Z",
     "iopub.status.idle": "2022-12-21T05:31:24.040876Z",
     "shell.execute_reply": "2022-12-21T05:31:24.039423Z"
    },
    "papermill": {
     "duration": 0.07135,
     "end_time": "2022-12-21T05:31:24.043567",
     "exception": false,
     "start_time": "2022-12-21T05:31:23.972217",
     "status": "completed"
    },
    "tags": []
   },
   "outputs": [
    {
     "name": "stdout",
     "output_type": "stream",
     "text": [
      "2.9544452608376193\n"
     ]
    }
   ],
   "source": [
    "#testando o test split\n",
    "from sklearn.model_selection import train_test_split\n",
    "\n",
    "\n",
    "train_X, val_X, train_y, val_y = train_test_split(X, y,random_state = 0)\n",
    "\n",
    "bike_model.fit(train_X, train_y)\n",
    "\n",
    "val_predictions = bike_model.predict(val_X)\n",
    "print(mean_absolute_error(val_y, val_predictions))"
   ]
  },
  {
   "cell_type": "code",
   "execution_count": 12,
   "id": "1f6577e1",
   "metadata": {
    "execution": {
     "iopub.execute_input": "2022-12-21T05:31:24.059555Z",
     "iopub.status.busy": "2022-12-21T05:31:24.058549Z",
     "iopub.status.idle": "2022-12-21T05:31:24.238780Z",
     "shell.execute_reply": "2022-12-21T05:31:24.237434Z"
    },
    "papermill": {
     "duration": 0.190717,
     "end_time": "2022-12-21T05:31:24.241090",
     "exception": false,
     "start_time": "2022-12-21T05:31:24.050373",
     "status": "completed"
    },
    "tags": []
   },
   "outputs": [
    {
     "name": "stdout",
     "output_type": "stream",
     "text": [
      "Max leaf nodes: 5  \t\t Mean Absolute Error:  43\n",
      "Max leaf nodes: 50  \t\t Mean Absolute Error:  11\n",
      "Max leaf nodes: 500  \t\t Mean Absolute Error:  4\n",
      "Max leaf nodes: 3000  \t\t Mean Absolute Error:  2\n",
      "Max leaf nodes: 5000  \t\t Mean Absolute Error:  2\n"
     ]
    }
   ],
   "source": [
    "# resultados obtidos a partir da otimização número de leaf nodes \n",
    "def get_mae(max_leaf_nodes, train_X, val_X, train_y, val_y):\n",
    "    model = DecisionTreeRegressor(max_leaf_nodes=max_leaf_nodes, random_state=0)\n",
    "    model.fit(train_X, train_y)\n",
    "    preds_val = model.predict(val_X)\n",
    "    mae = mean_absolute_error(val_y, preds_val)\n",
    "    return(mae)\n",
    "\n",
    "for max_leaf_nodes in [5, 50, 500, 3000, 5000]:\n",
    "    my_mae = get_mae(max_leaf_nodes, train_X, val_X, train_y, val_y)\n",
    "    print(\"Max leaf nodes: %d  \\t\\t Mean Absolute Error:  %d\" %(max_leaf_nodes, my_mae))"
   ]
  },
  {
   "cell_type": "code",
   "execution_count": 13,
   "id": "cf631955",
   "metadata": {
    "execution": {
     "iopub.execute_input": "2022-12-21T05:31:24.256199Z",
     "iopub.status.busy": "2022-12-21T05:31:24.254985Z",
     "iopub.status.idle": "2022-12-21T05:31:27.304028Z",
     "shell.execute_reply": "2022-12-21T05:31:27.302427Z"
    },
    "papermill": {
     "duration": 3.059409,
     "end_time": "2022-12-21T05:31:27.306754",
     "exception": false,
     "start_time": "2022-12-21T05:31:24.247345",
     "status": "completed"
    },
    "tags": []
   },
   "outputs": [
    {
     "name": "stdout",
     "output_type": "stream",
     "text": [
      "1.2117083027185895\n"
     ]
    }
   ],
   "source": [
    "# resultados obtidos usando o RandomForest\n",
    "from sklearn.ensemble import RandomForestRegressor\n",
    "from sklearn.metrics import mean_absolute_error\n",
    "\n",
    "forest_model = RandomForestRegressor(random_state=1)\n",
    "forest_model.fit(train_X, train_y)\n",
    "bike_preds = forest_model.predict(val_X)\n",
    "print(mean_absolute_error(val_y, bike_preds))"
   ]
  },
  {
   "cell_type": "code",
   "execution_count": 14,
   "id": "39fa942b",
   "metadata": {
    "execution": {
     "iopub.execute_input": "2022-12-21T05:31:27.322395Z",
     "iopub.status.busy": "2022-12-21T05:31:27.321347Z",
     "iopub.status.idle": "2022-12-21T05:31:33.696215Z",
     "shell.execute_reply": "2022-12-21T05:31:33.695054Z"
    },
    "papermill": {
     "duration": 6.385139,
     "end_time": "2022-12-21T05:31:33.698751",
     "exception": false,
     "start_time": "2022-12-21T05:31:27.313612",
     "status": "completed"
    },
    "tags": []
   },
   "outputs": [
    {
     "name": "stderr",
     "output_type": "stream",
     "text": [
      "/opt/conda/lib/python3.7/site-packages/xgboost/sklearn.py:797: UserWarning: `early_stopping_rounds` in `fit` method is deprecated for better compatibility with scikit-learn, use `early_stopping_rounds` in constructor or`set_params` instead.\n",
      "  UserWarning,\n"
     ]
    },
    {
     "name": "stdout",
     "output_type": "stream",
     "text": [
      "Mean Absolute Error: 1.2536443937008737\n"
     ]
    }
   ],
   "source": [
    "#XGboost\n",
    "y = new_bike_data['count']\n",
    "new_bike_data_features = ['datetime','season','holiday','workingday','weather','temp','atemp','humidity','windspeed','casual','registered']\n",
    "X = new_bike_data[new_bike_data_features]\n",
    "X_train, X_valid, y_train, y_valid = train_test_split(X, y)\n",
    "\n",
    "\n",
    "from xgboost import XGBRegressor\n",
    "\n",
    "\n",
    "#my_model = XGBRegressor()\n",
    "#my_model.fit(X_train, y_train)\n",
    "#melhorando os parâmetros\n",
    "my_model = XGBRegressor(n_estimators=1000, learning_rate=0.05)\n",
    "my_model.fit(X_train, y_train, \n",
    "             early_stopping_rounds=5, \n",
    "             eval_set=[(X_valid, y_valid)], \n",
    "             verbose=False)\n",
    "\n",
    "from sklearn.metrics import mean_absolute_error\n",
    "\n",
    "predictions = my_model.predict(X_valid)\n",
    "print(\"Mean Absolute Error: \" + str(mean_absolute_error(predictions, y_valid)))\n",
    "\n"
   ]
  },
  {
   "cell_type": "code",
   "execution_count": 15,
   "id": "0eaf9d0e",
   "metadata": {
    "execution": {
     "iopub.execute_input": "2022-12-21T05:31:33.715122Z",
     "iopub.status.busy": "2022-12-21T05:31:33.714683Z",
     "iopub.status.idle": "2022-12-21T05:31:33.728071Z",
     "shell.execute_reply": "2022-12-21T05:31:33.727224Z"
    },
    "papermill": {
     "duration": 0.023951,
     "end_time": "2022-12-21T05:31:33.730291",
     "exception": false,
     "start_time": "2022-12-21T05:31:33.706340",
     "status": "completed"
    },
    "tags": []
   },
   "outputs": [
    {
     "data": {
      "text/plain": [
       "count    10886.000000\n",
       "mean       191.574132\n",
       "std        181.144454\n",
       "min          1.000000\n",
       "25%         42.000000\n",
       "50%        145.000000\n",
       "75%        284.000000\n",
       "max        977.000000\n",
       "Name: count, dtype: float64"
      ]
     },
     "execution_count": 15,
     "metadata": {},
     "output_type": "execute_result"
    }
   ],
   "source": [
    "y.describe()"
   ]
  },
  {
   "cell_type": "code",
   "execution_count": 16,
   "id": "d589045f",
   "metadata": {
    "execution": {
     "iopub.execute_input": "2022-12-21T05:31:33.745788Z",
     "iopub.status.busy": "2022-12-21T05:31:33.745051Z",
     "iopub.status.idle": "2022-12-21T05:31:35.873597Z",
     "shell.execute_reply": "2022-12-21T05:31:35.872421Z"
    },
    "papermill": {
     "duration": 2.139253,
     "end_time": "2022-12-21T05:31:35.876157",
     "exception": false,
     "start_time": "2022-12-21T05:31:33.736904",
     "status": "completed"
    },
    "tags": []
   },
   "outputs": [
    {
     "data": {
      "text/plain": [
       "<AxesSubplot:xlabel='temp', ylabel='count'>"
      ]
     },
     "execution_count": 16,
     "metadata": {},
     "output_type": "execute_result"
    },
    {
     "data": {
      "image/png": "[encoded data removed]",
      "text/plain": [
       "<Figure size 432x288 with 1 Axes>"
      ]
     },
     "metadata": {
      "needs_background": "light"
     },
     "output_type": "display_data"
    }
   ],
   "source": [
    "#firulas gráficas\n",
    "sns.barplot(x=bike_data['temp'], y=bike_data['count'])"
   ]
  },
  {
   "cell_type": "code",
   "execution_count": 17,
   "id": "1b4fea81",
   "metadata": {
    "execution": {
     "iopub.execute_input": "2022-12-21T05:31:35.891866Z",
     "iopub.status.busy": "2022-12-21T05:31:35.891434Z",
     "iopub.status.idle": "2022-12-21T05:31:39.176629Z",
     "shell.execute_reply": "2022-12-21T05:31:39.175743Z"
    },
    "papermill": {
     "duration": 3.295774,
     "end_time": "2022-12-21T05:31:39.179010",
     "exception": false,
     "start_time": "2022-12-21T05:31:35.883236",
     "status": "completed"
    },
    "tags": []
   },
   "outputs": [
    {
     "data": {
      "text/plain": [
       "<AxesSubplot:xlabel='humidity', ylabel='count'>"
      ]
     },
     "execution_count": 17,
     "metadata": {},
     "output_type": "execute_result"
    },
    {
     "data": {
      "image/png": "[encoded data removed]",
      "text/plain": [
       "<Figure size 432x288 with 1 Axes>"
      ]
     },
     "metadata": {
      "needs_background": "light"
     },
     "output_type": "display_data"
    }
   ],
   "source": [
    "sns.barplot(x=bike_data['humidity'], y=bike_data['count'])"
   ]
  },
  {
   "cell_type": "code",
   "execution_count": 18,
   "id": "a1601767",
   "metadata": {
    "execution": {
     "iopub.execute_input": "2022-12-21T05:31:39.196115Z",
     "iopub.status.busy": "2022-12-21T05:31:39.195669Z",
     "iopub.status.idle": "2022-12-21T05:31:40.252799Z",
     "shell.execute_reply": "2022-12-21T05:31:40.251322Z"
    },
    "papermill": {
     "duration": 1.069119,
     "end_time": "2022-12-21T05:31:40.255916",
     "exception": false,
     "start_time": "2022-12-21T05:31:39.186797",
     "status": "completed"
    },
    "tags": []
   },
   "outputs": [
    {
     "data": {
      "text/plain": [
       "<AxesSubplot:xlabel='datetime', ylabel='count'>"
      ]
     },
     "execution_count": 18,
     "metadata": {},
     "output_type": "execute_result"
    },
    {
     "data": {
      "image/png": "[encoded data removed]",
      "text/plain": [
       "<Figure size 432x288 with 1 Axes>"
      ]
     },
     "metadata": {
      "needs_background": "light"
     },
     "output_type": "display_data"
    }
   ],
   "source": [
    "sns.barplot(x=new_bike_data['datetime'], y=bike_data['count'])"
   ]
  }
 ],
 "metadata": {
  "kernelspec": {
   "display_name": "Python 3",
   "language": "python",
   "name": "python3"
  },
  "language_info": {
   "codemirror_mode": {
    "name": "ipython",
    "version": 3
   },
   "file_extension": ".py",
   "mimetype": "text/x-python",
   "name": "python",
   "nbconvert_exporter": "python",
   "pygments_lexer": "ipython3",
   "version": "3.7.12"
  },
  "papermill": {
   "default_parameters": {},
   "duration": 31.202652,
   "end_time": "2022-12-21T05:31:41.388651",
   "environment_variables": {},
   "exception": null,
   "input_path": "__notebook__.ipynb",
   "output_path": "__notebook__.ipynb",
   "parameters": {},
   "start_time": "2022-12-21T05:31:10.185999",
   "version": "2.3.4"
  }
 },
 "nbformat": 4,
 "nbformat_minor": 5
}
